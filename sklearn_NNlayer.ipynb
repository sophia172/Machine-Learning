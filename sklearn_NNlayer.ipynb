{
 "cells": [
  {
   "cell_type": "markdown",
   "metadata": {},
   "source": [
    "## The purpose of the script is testing, no confidential data envolved\n"
   ]
  },
  {
   "cell_type": "markdown",
   "metadata": {},
   "source": [
    "### # 1. Import package"
   ]
  },
  {
   "cell_type": "code",
   "execution_count": 19,
   "metadata": {},
   "outputs": [],
   "source": [
    "import numpy as np\n",
    "import pandas as pd\n",
    "from matplotlib import pyplot as plt\n",
    "from matplotlib import cm\n",
    " \n",
    "from sklearn import datasets\n",
    "from sklearn.model_selection import train_test_split\n",
    "from sklearn import preprocessing\n",
    "from sklearn.ensemble import RandomForestRegressor\n",
    "from sklearn.neural_network import MLPClassifier\n",
    "from sklearn.pipeline import make_pipeline\n",
    "from sklearn.model_selection import learning_curve\n",
    "from sklearn.model_selection import GridSearchCV\n",
    "from sklearn.metrics import mean_squared_error, r2_score\n"
   ]
  },
  {
   "cell_type": "markdown",
   "metadata": {},
   "source": [
    "### # 2. Import data sets and separate training set and test set"
   ]
  },
  {
   "cell_type": "code",
   "execution_count": 2,
   "metadata": {},
   "outputs": [
    {
     "name": "stdout",
     "output_type": "stream",
     "text": [
      "iris training data has  120  samples and  4  features\n",
      ".... result should look like this... \n",
      " [1 0 1 0 0 2 0 0 2 1 0 0 0 2 0 2 0 2 1 0 0 1 2 2 1 1 0 2 1 2 1 2 2 1 0 2 2\n",
      " 1 2 1 0 0 2 2 2 2 0 1 0 0 1 2 2 1 1 0 2 2 0 1 0 1 1 0 0 0 1 2 0 2 1 1 2 2\n",
      " 0 2 0 1 1 2 2 0 1 0 0 1 1 2 1 1 2 2 2 0 1 1 1 0 0 1 2 1 2 2 0 0 2 1 2 1 1\n",
      " 1 0 1 0 0 2 2 0 1] \n",
      "\n",
      ">>>\n",
      ">>>\n",
      "\n",
      "digits training data has  1437  samples and  64  features\n",
      ".... result should look like this... \n",
      " [3 2 2 ... 5 1 5] \n",
      "\n",
      ">>>\n",
      ">>>\n",
      "\n",
      "wine training data has  1279  samples and  11  features\n",
      ".... result should look like this... \n",
      " [5. 7. 6. ... 6. 6. 6.] \n",
      "\n"
     ]
    }
   ],
   "source": [
    "\n",
    "iris = datasets.load_iris()\n",
    "digits = datasets.load_digits()\n",
    "wine_dataset_url = 'http://mlr.cs.umass.edu/ml/machine-learning-databases/wine-quality/winequality-red.csv'\n",
    "wine = np.genfromtxt(wine_dataset_url, delimiter=';',skip_header=1)\n",
    "\n",
    "X1_train, X1_test, y1_train, y1_test = train_test_split(iris.data,iris.target,\n",
    "                                                        test_size=0.2, \n",
    "                                                        random_state=123, \n",
    "                                                        stratify=iris.target)\n",
    "\n",
    "X2_train, X2_test, y2_train, y2_test = train_test_split(digits.data,digits.target,\n",
    "                                                        test_size=0.2, \n",
    "                                                        random_state=123, \n",
    "                                                        stratify=digits.target)\n",
    "\n",
    "X3, y3 = wine[:,:-1],wine[:,-1]\n",
    "X3_train, X3_test, y3_train, y3_test = train_test_split(wine[:,:-1], wine[:,-1],\n",
    "                                                        test_size=0.2, \n",
    "                                                        random_state=123, \n",
    "                                                        stratify= wine[:,-1])\n",
    "\n",
    "\n",
    "print('iris training data has ',np.shape(X1_train)[0], ' samples and ',\n",
    "      np.shape(X1_train)[1], ' features')\n",
    "print('.... result should look like this... \\n', y1_train, '\\n')\n",
    "\n",
    "print('>>>\\n>>>\\n')\n",
    "\n",
    "print('digits training data has ',np.shape(X2_train)[0], ' samples and ',\n",
    "      np.shape(X2_train)[1], ' features')\n",
    "print('.... result should look like this... \\n', y2_train, '\\n')\n",
    "\n",
    "print('>>>\\n>>>\\n')\n",
    "\n",
    "\n",
    "print('wine training data has ',np.shape(X3_train)[0], ' samples and ',\n",
    "      np.shape(X3_train)[1], ' features')\n",
    "print('.... result should look like this... \\n', y3_train, '\\n')\n"
   ]
  },
  {
   "cell_type": "markdown",
   "metadata": {},
   "source": [
    "### # 3. Declare data preprocessing steps\n",
    "    I am setting up to algorithm here, one is Random Forest Regression, the other one is neural network for classification."
   ]
  },
  {
   "cell_type": "code",
   "execution_count": 4,
   "metadata": {},
   "outputs": [],
   "source": [
    "# we need all the processor to start working\n",
    "pipeline_RF = make_pipeline(preprocessing.StandardScaler(), \n",
    "                             RandomForestRegressor(n_estimators=100,n_jobs=-1)) \n",
    "\n",
    "\n",
    "\n",
    "pipeline_NN = make_pipeline(preprocessing.StandardScaler(),\n",
    "                             MLPClassifier(max_iter=500,solver='lbfgs', \n",
    "                                           alpha=1e-5,\n",
    "                                           hidden_layer_sizes=(5, 2), \n",
    "                                           random_state=1))"
   ]
  },
  {
   "cell_type": "code",
   "execution_count": null,
   "metadata": {},
   "outputs": [],
   "source": [
    "\n"
   ]
  },
  {
   "cell_type": "markdown",
   "metadata": {},
   "source": [
    "### # 4. Declare hyperparameters to tune\n",
    "    Does NN-layer need hyperparameters?"
   ]
  },
  {
   "cell_type": "code",
   "execution_count": 5,
   "metadata": {},
   "outputs": [],
   "source": [
    "hyperparameters_RF = { 'randomforestregressor__max_features' : ['auto', 'sqrt', 'log2'],\n",
    "                  'randomforestregressor__max_depth': [None, 5, 3, 1]}\n",
    "\n",
    "hyperparameters_NN = [{'mlpclassifier__hidden_layer_sizes': [(5,5,5), (5,10,5), (10)],\n",
    "#                       'mlpclassifier__activation' : [‘identity’, ‘logistic’, ‘tanh’, ‘relu’],\n",
    "#                       'mlpclassifier__solver': ['sgd', 'adam'],\n",
    "#                       'mlpclassifier__alpha': [0.0001, 0.05],\n",
    "                      'mlpclassifier__learning_rate': ['constant','adaptive']}]"
   ]
  },
  {
   "cell_type": "markdown",
   "metadata": {},
   "source": [
    "### # 5.Tune model using cross-validation pipeline"
   ]
  },
  {
   "cell_type": "code",
   "execution_count": 6,
   "metadata": {},
   "outputs": [],
   "source": [
    "clf_RF = GridSearchCV(pipeline_RF, hyperparameters_RF, cv=10)\n",
    "\n",
    "\n",
    "# clf_RF.fit(X1_train, y1_train)\n"
   ]
  },
  {
   "cell_type": "code",
   "execution_count": 15,
   "metadata": {},
   "outputs": [],
   "source": [
    "clf_NN = GridSearchCV(pipeline_NN, hyperparameters_NN, cv=5)\n",
    "\n",
    "\n",
    "# clf_NN.fit(X3_train, y3_train)\n"
   ]
  },
  {
   "cell_type": "markdown",
   "metadata": {},
   "source": [
    "### # 6. Evaluate model pipeline on test data"
   ]
  },
  {
   "cell_type": "code",
   "execution_count": 13,
   "metadata": {},
   "outputs": [
    {
     "name": "stdout",
     "output_type": "stream",
     "text": [
      "[ 0.01782458  0.00863636 -0.01448808 -0.02851361  0.00863636  0.\n",
      " -0.00301081  0.37374388 -0.40906423  0.          0.          0.94185652\n",
      " -0.09918731  0.05319917 -0.01448808  0.18262909  0.          0.\n",
      "  0.          0.01888889  0.         -0.00897906 -0.165471    0.22868205\n",
      " -0.00301081 -0.05870514  0.03420399  0.08744556  0.06791715  0.04358048]\n",
      "[1.01782458 0.00863636 1.98551192 1.97148639 0.00863636 0.\n",
      " 1.99698919 1.37374388 1.59093577 0.         0.         1.94185652\n",
      " 1.90081269 1.05319917 1.98551192 1.18262909 0.         0.\n",
      " 0.         0.01888889 0.         1.99102094 1.834529   1.22868205\n",
      " 1.99698919 1.94129486 1.03420399 1.08744556 1.06791715 1.04358048]\n"
     ]
    }
   ],
   "source": [
    "pred = clf_RF.predict(X1_test)\n",
    "print(pred-y1_test)\n",
    "print(pred)\n",
    "\n",
    "# pred = clf_NN.predict(X1_test)\n",
    "# prob_est = clf_NN.predict_proba(X1_test)\n",
    "# print(prob_est)\n"
   ]
  },
  {
   "cell_type": "markdown",
   "metadata": {},
   "source": [
    "### # 7. Check the learning curve"
   ]
  },
  {
   "cell_type": "code",
   "execution_count": 26,
   "metadata": {},
   "outputs": [],
   "source": [
    "train_sizes, train_scores, test_scores = learning_curve(pipeline_NN, \n",
    "                                                        X3, y3, \n",
    "                                                        n_jobs= None,   # always remember to parallel\n",
    "                                                        train_sizes=[0.2,0.4, 0.6,0.8,1 ] , cv=5\n",
    "                                                        )\n",
    "train_scores_mean = np.mean(train_scores, axis=1)\n",
    "train_scores_std = np.std(train_scores, axis=1)\n",
    "test_scores_mean = np.mean(test_scores, axis=1)\n",
    "test_scores_std = np.std(test_scores, axis=1)"
   ]
  },
  {
   "cell_type": "markdown",
   "metadata": {},
   "source": [
    "### # 8. Plot the learning curve"
   ]
  },
  {
   "cell_type": "code",
   "execution_count": 28,
   "metadata": {},
   "outputs": [
    {
     "data": {
      "text/plain": [
       "<matplotlib.legend.Legend at 0x11233fef0>"
      ]
     },
     "execution_count": 28,
     "metadata": {},
     "output_type": "execute_result"
    },
    {
     "data": {
      "image/png": "[encoded data removed]",
      "text/plain": [
       "<Figure size 432x288 with 1 Axes>"
      ]
     },
     "metadata": {
      "needs_background": "light"
     },
     "output_type": "display_data"
    }
   ],
   "source": [
    "cmap = cm.get_cmap('nipy_spectral')\n",
    "fill1 = list(cmap(0.4))\n",
    "fill1[-1] = 0.5\n",
    "fill1 = tuple(fill1)\n",
    "\n",
    "fill2 = list(cmap(0.5))\n",
    "fill2[-1] = 0.5\n",
    "fill2 = tuple(fill2)\n",
    "\n",
    "plt.figure(1)\n",
    "plt.plot(train_sizes,train_scores_mean,color=cmap(0.4))\n",
    "plt.fill_between(train_sizes,train_scores_mean - train_scores_std,train_scores_mean + train_scores_std,\n",
    "                color = fill1,\n",
    "                label = 'training data')\n",
    "\n",
    "plt.plot(train_sizes,test_scores_mean,color=cmap(0.5))\n",
    "plt.fill_between(train_sizes,test_scores_mean - test_scores_std,test_scores_mean + test_scores_std,\n",
    "                color = fill2, \n",
    "                label = 'test data')\n",
    "\n",
    "plt.xlabel('Sample numbers')\n",
    "plt.ylabel('Accuracy')\n",
    "plt.legend()"
   ]
  },
  {
   "cell_type": "markdown",
   "metadata": {},
   "source": [
    "### # 10. Save model for future use"
   ]
  },
  {
   "cell_type": "code",
   "execution_count": null,
   "metadata": {},
   "outputs": [],
   "source": [
    "joblib.dump(clf_RF, 'rf_regressor.pkl')\n",
    "joblib.dump(clf_NN, 'rf_regressor.pkl')"
   ]
  }
 ],
 "metadata": {
  "kernelspec": {
   "display_name": "Python 3",
   "language": "python",
   "name": "python3"
  },
  "language_info": {
   "codemirror_mode": {
    "name": "ipython",
    "version": 3
   },
   "file_extension": ".py",
   "mimetype": "text/x-python",
   "name": "python",
   "nbconvert_exporter": "python",
   "pygments_lexer": "ipython3",
   "version": "3.7.3"
  }
 },
 "nbformat": 4,
 "nbformat_minor": 2
}
